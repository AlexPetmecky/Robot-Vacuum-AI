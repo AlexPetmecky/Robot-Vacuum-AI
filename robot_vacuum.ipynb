{
 "cells": [
  {
   "cell_type": "markdown",
   "metadata": {
    "id": "bBDd1FwNJOfo"
   },
   "source": [
    "# Intelligent Agents: Reflex-Based Agents for the Vacuum-cleaner World\n",
    "\n",
    "Student Name: Alex Petmecky\n",
    "\n",
    "I have used the following AI tools: NA\n",
    "\n",
    "I understand that my submission needs to be my own work: AP\n",
    "\n",
    "## Instructions\n",
    "\n",
    "Total Points: Undergrads 100 + 5 bonus / Graduate students 110\n",
    "\n",
    "Complete this notebook. Use the provided notebook cells and insert additional code and markdown cells as needed. Submit the completely rendered notebook as a HTML file.\n",
    "\n",
    "In Visual Studio Code: Use Export (click on ... in the menu bar) to save your notebook as a HTML file.\n",
    "\n",
    "In Colab you need to save the notebook on GoogleDrive and then add the following block"
   ]
  },
  {
   "cell_type": "code",
   "metadata": {
    "id": "VYV3jNTLJOfr",
    "ExecuteTime": {
     "end_time": "2024-09-17T00:23:11.486385Z",
     "start_time": "2024-09-17T00:23:11.480830Z"
    }
   },
   "source": [
    "# !pip install nbconvert\n",
    "#\n",
    "# from google.colab import drive\n",
    "# drive.mount('/content/drive')\n",
    "# !jupyter nbconvert --to html /content/drive/MyDrive/Colab\\ Notebooks/Copy\\ of\\ robot_vacuum.ipynb"
   ],
   "outputs": [],
   "execution_count": 96
  },
  {
   "cell_type": "markdown",
   "metadata": {
    "id": "84v-EuupJOfs"
   },
   "source": [
    "You will need to fix the file location on your GoogleDrive.\n",
    "\n",
    "## Introduction\n",
    "\n",
    "In this assignment you will implement a simulator environment for an automatic vacuum cleaner robot, a set of different reflex-based agent programs, and perform a comparison study for cleaning a single room. Focus on the __cleaning phase__ which starts when the robot is activated and ends when the last dirty square in the room has been cleaned. Someone else will take care of the agent program needed to navigate back to the charging station after the room is clean.\n",
    "\n",
    "## PEAS description of the cleaning phase\n",
    "\n",
    "__Performance Measure:__ Each action costs 1 energy unit. The performance is measured as the sum of the energy units used to clean the whole room.\n",
    "\n",
    "__Environment:__ A room with $n \\times n$ squares where $n = 5$. Dirt is randomly placed on each square with probability $p = 0.2$. For simplicity, you can assume that the agent knows the size and the layout of the room (i.e., it knows $n$). To start, the agent is placed on a random square.\n",
    "\n",
    "__Actuators:__ The agent can clean the current square (action `suck`) or move to an adjacent square by going `north`, `east`, `south`, or `west`.\n",
    "\n",
    "__Sensors:__ Four bumper sensors, one for north, east, south, and west; a dirt sensor reporting dirt in the current square.  \n",
    "\n",
    "\n",
    "## The agent program for a simple randomized agent\n",
    "\n",
    "The agent program is a function that gets sensor information (the current percepts) as the arguments. The arguments are:\n",
    "\n",
    "* A dictionary with boolean entries for the for bumper sensors `north`, `east`, `west`, `south`. E.g., if the agent is on the north-west corner, `bumpers` will be `{\"north\" : True, \"east\" : False, \"south\" : False, \"west\" : True}`.\n",
    "* The dirt sensor produces a boolean.\n",
    "\n",
    "The agent returns the chosen action as a string.\n",
    "\n",
    "Here is an example implementation for the agent program of a simple randomized agent:  "
   ]
  },
  {
   "cell_type": "code",
   "metadata": {
    "id": "E4E4qz3rJOfs",
    "ExecuteTime": {
     "end_time": "2024-09-17T00:23:12.413529Z",
     "start_time": "2024-09-17T00:23:11.493940Z"
    }
   },
   "source": [
    "import time\n",
    "from operator import truediv\n",
    "# make sure numpy is installed\n",
    "!pip install -q numpy"
   ],
   "outputs": [],
   "execution_count": 97
  },
  {
   "cell_type": "code",
   "metadata": {
    "id": "LtKnFjbwJOfs",
    "ExecuteTime": {
     "end_time": "2024-09-17T00:23:12.430998Z",
     "start_time": "2024-09-17T00:23:12.427729Z"
    }
   },
   "source": [
    "import numpy as np\n",
    "class simpleRAgent():\n",
    "    actions = [\"north\", \"east\", \"west\", \"south\", \"suck\"] #possible actions\n",
    "\n",
    "    def simple_randomized_agent(self,bumpers, dirty):\n",
    "        return np.random.choice(self.actions)#randomly choosing an action"
   ],
   "outputs": [],
   "execution_count": 98
  },
  {
   "cell_type": "code",
   "metadata": {
    "id": "Ik-1jwyzJOfs",
    "outputId": "db217150-08fd-4ff9-8a7b-c9defa5e2901",
    "ExecuteTime": {
     "end_time": "2024-09-17T00:23:12.441902Z",
     "start_time": "2024-09-17T00:23:12.438711Z"
    }
   },
   "source": [
    "# define percepts (current location is NW corner and it is dirty)\n",
    "bumpers = {\"north\" : True, \"east\" : False, \"south\" : False, \"west\" : True}#if true, it has a wall on that bumper\n",
    "dirty = True\n",
    "\n",
    "agent = simpleRAgent()\n",
    "# call agent program function with percepts and it returns an action\n",
    "agent.simple_randomized_agent(bumpers, dirty)"
   ],
   "outputs": [
    {
     "data": {
      "text/plain": [
       "'north'"
      ]
     },
     "execution_count": 99,
     "metadata": {},
     "output_type": "execute_result"
    }
   ],
   "execution_count": 99
  },
  {
   "cell_type": "markdown",
   "metadata": {
    "id": "3qJD8MGvJOft"
   },
   "source": [
    "__Note:__ This is not a rational intelligent agent. It ignores its sensors and may bump into a wall repeatedly or not clean a dirty square. You will be asked to implement rational agents below."
   ]
  },
  {
   "cell_type": "markdown",
   "metadata": {
    "id": "4mv2_gqSJOfu"
   },
   "source": [
    "## Simple environment example\n",
    "\n",
    "We implement a simple simulation environment that supplies the agent with its percepts.\n",
    "The simple environment is infinite in size (bumpers are always `False`) and every square is always dirty, even if the agent cleans it. The environment function returns a different performance measure than the one specified in the PEAS description! Since the room is infinite and all squares are constantly dirty, the agent can never clean the whole room. Your implementation needs to implement the **correct performance measure.** The energy budget of the agent is specified as `max_steps`."
   ]
  },
  {
   "cell_type": "code",
   "metadata": {
    "id": "jcoqNCQUJOfu",
    "ExecuteTime": {
     "end_time": "2024-09-17T00:23:12.464567Z",
     "start_time": "2024-09-17T00:23:12.462001Z"
    }
   },
   "source": [
    "def simple_environment(agent, max_steps, verbose = True):#sample environment(not smart environment, no walls(bumpers always false), every square is dirty, etc)\n",
    "    num_cleaned = 0\n",
    "\n",
    "    for i in range(max_steps):\n",
    "        dirty = True\n",
    "        bumpers = {\"north\" : False, \"south\" : False, \"west\" : False, \"east\" : False}\n",
    "\n",
    "        #action = agent(bumpers, dirty)\n",
    "        action = agent.simple_randomized_agent(bumpers, dirty)\n",
    "        if (verbose): print(\"step\", i , \"- action:\", action)\n",
    "\n",
    "        if (action == \"suck\"):\n",
    "            num_cleaned = num_cleaned + 1\n",
    "\n",
    "    return num_cleaned\n",
    "\n"
   ],
   "outputs": [],
   "execution_count": 100
  },
  {
   "cell_type": "markdown",
   "metadata": {
    "id": "nDg_m9s9JOfu"
   },
   "source": [
    "Do one simulation run with a simple randomized agent that has enough energy for 20 steps."
   ]
  },
  {
   "cell_type": "code",
   "metadata": {
    "id": "eI8eiuWjJOfu",
    "outputId": "981375f8-f39d-4ee0-cac9-d65b21c11e5c",
    "ExecuteTime": {
     "end_time": "2024-09-17T00:23:12.474617Z",
     "start_time": "2024-09-17T00:23:12.471723Z"
    }
   },
   "source": "simple_environment(simpleRAgent(), max_steps = 20)#agent is being defined above (randomly chooses)",
   "outputs": [
    {
     "name": "stdout",
     "output_type": "stream",
     "text": [
      "step 0 - action: north\n",
      "step 1 - action: north\n",
      "step 2 - action: east\n",
      "step 3 - action: east\n",
      "step 4 - action: south\n",
      "step 5 - action: suck\n",
      "step 6 - action: south\n",
      "step 7 - action: west\n",
      "step 8 - action: north\n",
      "step 9 - action: west\n",
      "step 10 - action: suck\n",
      "step 11 - action: south\n",
      "step 12 - action: suck\n",
      "step 13 - action: south\n",
      "step 14 - action: north\n",
      "step 15 - action: south\n",
      "step 16 - action: south\n",
      "step 17 - action: east\n",
      "step 18 - action: suck\n",
      "step 19 - action: east\n"
     ]
    },
    {
     "data": {
      "text/plain": [
       "4"
      ]
     },
     "execution_count": 101,
     "metadata": {},
     "output_type": "execute_result"
    }
   ],
   "execution_count": 101
  },
  {
   "cell_type": "markdown",
   "metadata": {
    "id": "InAyaV5qJOfu"
   },
   "source": [
    "# Tasks\n",
    "\n",
    "## General [10 Points]\n",
    "\n",
    "1. Make sure that you use the latest version of this notebook.\n",
    "2. Your implementation can use libraries like math, numpy, scipy, but not libraries that implement intelligent agents or complete search algorithms. Try to keep the code simple! In this course, we want to learn about the algorithms and we often do not need to use object-oriented design.\n",
    "3. You notebook needs to be formatted professionally.\n",
    "    - Add additional markdown blocks for your description, comments in the code, add tables and use mathplotlib to produce charts where appropriate\n",
    "    - Do not show debugging output or include an excessive amount of output.\n",
    "    - Check that your submitted file is readable. For example, long lines may get cut off. You don't have control over page breaks, so do not worry about these.\n",
    "4. Document your code. Add a short discussion of how your implementation works and your design choices.\n",
    "\n",
    "\n",
    "## Task 1: Implement a simulation environment [20 Points]\n",
    "\n",
    "The simple environment above is not very realistic. Your environment simulator needs to follow the PEAS description from above. It needs to:\n",
    "\n",
    "* Initialize the environment by storing the state of each square (clean/dirty) and making some dirty. ([Help with random numbers and arrays in Python](https://github.com/mhahsler/CS7320-AI/blob/master/HOWTOs/random_numbers_and_arrays.ipynb))\n",
    "* Keep track of the agent's position.\n",
    "* Call the agent function repeatedly and provide the agent function with the sensor inputs.  \n",
    "* React to the agent's actions. E.g, by removing dirt from a square or moving the agent around unless there is a wall in the way.\n",
    "* Keep track of the performance measure. That is, track the agent's actions until all dirty squares are clean and count the number of actions it takes the agent to complete the task.\n",
    "\n",
    "The easiest implementation for the environment is to hold an 2-dimensional array to represent if squares are clean or dirty and to call the agent function in a loop until all squares are clean or a predefined number of steps have been reached (i.e., the robot runs out of energy).\n",
    "\n",
    "The simulation environment should be a function like the `simple_environment()` and needs to work with the simple randomized agent program from above. **Use the same environment for all your agent implementations in the tasks below.**\n",
    "\n",
    "*Note on debugging:* Debugging is difficult. Make sure your environment prints enough information when you use `verbose = True`. Also, implementing a function that the environment can use to displays the room with dirt and the current position of the robot at every step is very useful.  "
   ]
  },
  {
   "cell_type": "code",
   "metadata": {
    "id": "EaeypWPKJOfu",
    "ExecuteTime": {
     "end_time": "2024-09-17T00:23:12.502978Z",
     "start_time": "2024-09-17T00:23:12.495895Z"
    }
   },
   "source": [
    "# Your code and description goes here\n",
    "import numpy as np\n",
    "from time import sleep\n",
    "\n",
    "# initialize a new random number generator\n",
    "rng = np.random.default_rng()\n",
    "class Environment():\n",
    "    grid=[]\n",
    "    \n",
    "    def __init__(self,h,w,max_steps = 500):\n",
    "        self.grid = []\n",
    "        self.max_steps = max_steps\n",
    "        \n",
    "        for i in range(h):\n",
    "            row = rng.choice([True, False], size = w, p = [0.5, 0.5])\n",
    "            self.grid.append(row.tolist())\n",
    "\n",
    "        #self.grid = np.stack( self.grid, axis=0 )\n",
    "        self.h = h\n",
    "        self.w = w\n",
    "        \n",
    "        #self.steps = 0\n",
    "        #self.suckActions = 0\n",
    "            \n",
    "    def print_room(self):\n",
    "        pass\n",
    "        #print(self.grid)\n",
    "        \n",
    "    def checkRoom(self):\n",
    "        for row in self.grid:\n",
    "            if np.all(row == False):\n",
    "                print(\"row clean\")\n",
    "            else:\n",
    "                print(\"row not clean\")\n",
    "             \n",
    "    \n",
    "    def roomDirty(self): \n",
    "        \n",
    "        \n",
    "        #cleanRows = 0\n",
    "        for row in self.grid:\n",
    "            if not any(row):\n",
    "                pass\n",
    "            else:\n",
    "                return True\n",
    "        return False\n",
    "                \n",
    "    def isDirty(self,x,y):\n",
    "        #return boolean value on square\n",
    "        return self.grid[x][y]\n",
    "    \n",
    "    def cleanSquare(self,x,y):\n",
    "        #this should change the value\n",
    "        self.grid[x][y] = False\n",
    "        \n",
    "    def getBumpers(self,x,y):\n",
    "        bumpers = {\"north\" : False, \"south\" : False, \"west\" : False, \"east\" : False}\n",
    "        if x == 0:\n",
    "            bumpers[\"west\"] = True\n",
    "        if x == self.h-1:\n",
    "            bumpers[\"east\"] = True\n",
    "            \n",
    "        if y == 0:\n",
    "            bumpers[\"south\"] = True\n",
    "        if y == self.w-1:\n",
    "            bumpers[\"north\"] = True\n",
    "            \n",
    "        return bumpers\n",
    "    \n",
    "    def doAction(self,x,y,action):\n",
    "        \n",
    "        if action == \"north\":\n",
    "            y = y+1\n",
    "            if y >= self.h:\n",
    "                y = y-1\n",
    "        if action == \"south\":\n",
    "            y = y-1\n",
    "            if y < 0:\n",
    "                y = y+1\n",
    "        if action == \"east\":\n",
    "            x = x+1 \n",
    "            if x >= self.w:\n",
    "                x = x-1\n",
    "        if action == \"west\":\n",
    "            x = x-1\n",
    "            if x < 0:\n",
    "                x = x+1\n",
    "            \n",
    "        return x,y\n",
    "        \n",
    "            \n",
    "        \n",
    "    def clean_room(self,agent):\n",
    "        \n",
    "        #initial variable set up\n",
    "        cleans_preformed = 0\n",
    "        steps_taken = 0\n",
    "        \n",
    "        #setting the random position of the robot\n",
    "        x = rng.choice(self.w,size =1)[0]\n",
    "        y = rng.choice(self.h,size = 1)[0]\n",
    "        \n",
    "        \n",
    "        #below should be in a loop\n",
    "        while self.roomDirty():\n",
    "            #sleep(1)\n",
    "            #print(x,y)\n",
    "            dirty = False\n",
    "            if self.isDirty(x,y):\n",
    "                #self.cleanSquare(x,y)\n",
    "                #cleans_preformed += 1\n",
    "                \n",
    "                \n",
    "                dirty = True\n",
    "            \n",
    "            \n",
    "            bumpers = self.getBumpers(x,y)\n",
    "            \n",
    "            action = agent.simple_randomized_agent(bumpers=bumpers,dirty=dirty)\n",
    "            if action == \"done\":\n",
    "                self.print_room()\n",
    "            if (action == \"suck\"):\n",
    "                self.cleanSquare(x,y)\n",
    "                cleans_preformed += 1\n",
    "            else:\n",
    "                x,y = self.doAction(x,y,action)\n",
    "                steps_taken += 1\n",
    "        \n",
    "        \n",
    "            if steps_taken >= self.max_steps:\n",
    "                return -1,-1\n",
    "        \n",
    "            #if steps_taken % 25 == 0:\n",
    "                #print(\"Steps taken:\", steps_taken)\n",
    "                #self.print_room()\n",
    "                \n",
    "            \n",
    "                \n",
    "            #elif steps_taken % 41 == 0:\n",
    "            #    exit()\n",
    "                \n",
    "        \n",
    "        #print(\"ROOM CLEANED\")\n",
    "        #self.print_room()\n",
    "        #print(\"Took:\", steps_taken, \"steps and \", cleans_preformed, \"cleans\")\n",
    "\n",
    "        return steps_taken,cleans_preformed\n",
    "        \n",
    "\n",
    "            \n",
    "    \n",
    "\n"
   ],
   "outputs": [],
   "execution_count": 102
  },
  {
   "cell_type": "markdown",
   "metadata": {
    "id": "Ki2jJlpXJOfv"
   },
   "source": [
    "## Task 2:  Implement a simple reflex agent [10 Points]\n",
    "\n",
    "The simple reflex agent randomly walks around but reacts to the bumper sensor by not bumping into the wall and to dirt with sucking. Implement the agent program as a function.\n",
    "\n",
    "_Note:_ Agents cannot directly use variable in the environment. They only gets the percepts as the arguments to the agent function. Use the function signature for the `simple_randomized_agent` function above."
   ]
  },
  {
   "cell_type": "code",
   "metadata": {
    "id": "d1fAwVsFJOfv",
    "ExecuteTime": {
     "end_time": "2024-09-17T00:23:12.527653Z",
     "start_time": "2024-09-17T00:23:12.519615Z"
    }
   },
   "source": [
    "# Your code and description goes here\n",
    "class SimpleReflexAgent():\n",
    "    def __init__(self):\n",
    "        pass\n",
    "    def simple_randomized_agent(self, bumpers, dirty):\n",
    "        #moves = [\"north\", \"east\", \"west\", \"south\"]\n",
    "        \n",
    "        if dirty:\n",
    "            return \"suck\"\n",
    "            \n",
    "        #getting a map of all directions that can be taken\n",
    "        viableActions = [k for k,v in bumpers.items() if bool(v) == False]\n",
    "        \n",
    "        action = np.random.choice(viableActions)\n",
    "        \n",
    "        return action\n",
    "            \n",
    "        \n",
    "        \n",
    "        \n",
    "    \n",
    "\n",
    "\n",
    "#bumpers = {\"north\" : False, \"south\" : False, \"west\" : False, \"east\" : False}\n",
    "\n",
    "\n",
    "env = Environment(5,5)\n",
    "env.print_room()\n",
    "#env.clean_room(agent=SimpleReflexAgent())\n",
    "env.clean_room(agent = simpleRAgent())"
   ],
   "outputs": [
    {
     "data": {
      "text/plain": [
       "(351, 82)"
      ]
     },
     "execution_count": 103,
     "metadata": {},
     "output_type": "execute_result"
    }
   ],
   "execution_count": 103
  },
  {
   "cell_type": "markdown",
   "metadata": {
    "id": "y5cBxZlFJOfv"
   },
   "source": [
    "## Task 3: Implement a model-based reflex agent [20 Points]\n",
    "\n",
    "Model-based agents use a state to keep track of what they have done and perceived so far. Your agent needs to find out where it is located and then keep track of its current location. You also need a set of rules based on the state and the percepts to make sure that the agent will clean the whole room. For example, the agent can move to a corner to determine its location and then it can navigate through the whole room and clean dirty squares.\n",
    "\n",
    "Describe how you define the __agent state__ and how your agent works before implementing it. ([Help with implementing state information on Python](https://github.com/mhahsler/CS7320-AI/blob/master/HOWTOs/store_agent_state_information.ipynb))"
   ]
  },
  {
   "cell_type": "code",
   "metadata": {
    "id": "e43-YhfDJOfv",
    "ExecuteTime": {
     "end_time": "2024-09-17T00:23:12.537053Z",
     "start_time": "2024-09-17T00:23:12.535323Z"
    }
   },
   "source": "# Your short description of the state and your implementation goes here",
   "outputs": [],
   "execution_count": 104
  },
  {
   "cell_type": "code",
   "metadata": {
    "id": "sx6e1cCvJOfv",
    "ExecuteTime": {
     "end_time": "2024-09-17T00:23:12.578928Z",
     "start_time": "2024-09-17T00:23:12.554005Z"
    }
   },
   "source": [
    "# Your code goes here\n",
    "class modelBasedReflexAgent():\n",
    "    def __init__(self):\n",
    "        self.isCleaningMode = False #looking for waypoint if false\n",
    "        \n",
    "        self.wayPointDecided = False\n",
    "        \n",
    "        self.startingWall = None # where robot started, to know if the robot is side stepping left right\n",
    "        self.momentumNS = None #tracks north/south momentum\n",
    "        \n",
    "    \n",
    "    def simple_randomized_agent(self,bumpers,dirty):\n",
    "        \n",
    "        if not self.isCleaningMode:\n",
    "            \n",
    "            if not self.wayPointDecided:\n",
    "                self.getWayPointDir(bumpers)#this function will set the starting wall and starting direction\n",
    "                self.wayPointDecided = True\n",
    "                #print(\"WAYPOINT DECIDED\",self.momentumNS,\"  \",self.startingWall)\n",
    "            \n",
    "            if self.isCorner(bumpers):\n",
    "                self.isCleaningMode = True\n",
    "                #no return, get action from bottom block\n",
    "                #print(\"cleaning mode started\")\n",
    "                return\n",
    "                \n",
    "                \n",
    "                \n",
    "            \n",
    "            #move east/west, then north/south\n",
    "            if self.startingWall in self.getValidDirs(bumpers): #if the wall is a valid direction, go that way\n",
    "                #print(\"DIRECTION CHOSEN: \",self.startingWall)\n",
    "                return self.startingWall #move in the direction of the starting wall\n",
    "            \n",
    "            if self.momentumInverse() in self.getValidDirs(bumpers):\n",
    "                #print(\"DIRECTION CHOSEN: \",self.momentumInverse())\n",
    "                return self.momentumInverse()\n",
    "\n",
    "\n",
    "\n",
    "        if self.isCleaningMode:\n",
    "            if self.startingWall is None or self.momentumInverse() is None:\n",
    "                raise SystemExit(\"Stop right there!\")\n",
    "            \n",
    "            #cleaing mode\n",
    "            if dirty:\n",
    "                #print(\"CLEAN\")\n",
    "                return \"suck\"\n",
    "            \n",
    "            #basic \"lawn mower pattern\"\n",
    "            if self.momentumNS in self.getValidDirs(bumpers):\n",
    "                #print(self.momentumNS)\n",
    "                return self.momentumNS\n",
    "            else:\n",
    "                self.momentumNS = self.momentumInverse()\n",
    "                #print(self.inverseStartingWall())\n",
    "                return self.inverseStartingWall()\n",
    "            \n",
    "        \n",
    "    def isCorner(self,bumpers):\n",
    "        contact = [k for k,v in bumpers.items() if bool(v) == True]\n",
    "        return len(contact) == 2\n",
    "        \n",
    "    def getWayPointDir(self,bumpers):\n",
    "        numBump = 0\n",
    "        \n",
    "        if bumpers[\"north\"] or bumpers[\"south\"]:\n",
    "            numBump +=1\n",
    "        else:\n",
    "            pass\n",
    "        \n",
    "        if bumpers[\"east\"] or bumpers[\"west\"]:\n",
    "            numBump +=2\n",
    "        else:\n",
    "            pass\n",
    "            \n",
    "        #print(\"NUMBUMP: \",numBump)\n",
    "        if numBump == 3:\n",
    "            \n",
    "            #agent is in a corner;\n",
    "            self.isCleaningMode =True\n",
    "            \n",
    "            if bumpers[\"east\"]:\n",
    "                self.startingWall = \"east\"\n",
    "            else:\n",
    "                self.startingWall = \"west\"\n",
    "                \n",
    "            if bumpers[\"north\"]:\n",
    "                self.momentumNS = \"south\"\n",
    "            else:\n",
    "                self.momentumNS = \"north\"\n",
    "\n",
    "            #print(\"STARTING WALL:\",self.startingWall)\n",
    "            return\n",
    "                \n",
    "        if numBump == 1:\n",
    "            #N/S wall is detected\n",
    "            if bumpers[\"north\"]:\n",
    "                self.momentumNS = \"south\"\n",
    "            else:\n",
    "                self.momentumNS = \"north\"\n",
    "                \n",
    "            self.startingWall = np.random.choice([\"east\",\"west\"])\n",
    "            #print(\"STARTING WALL:\",self.startingWall)\n",
    "            return\n",
    "            \n",
    "        \n",
    "        if numBump == 2:\n",
    "            # E/W wall detected\n",
    "            if bumpers[\"east\"]:\n",
    "                self.startingWall = \"east\"\n",
    "            else:\n",
    "                self.startingWall = \"west\"\n",
    "                \n",
    "            self.momentumNS = np.random.choice([\"north\",\"south\"])\n",
    "            #print(\"STARTING WALL:\",self.startingWall)\n",
    "            return\n",
    "        \n",
    "        if numBump == 0:\n",
    "            self.startingWall = np.random.choice([\"east\",\"west\"])\n",
    "            self.momentumNS = np.random.choice([\"north\",\"south\"])\n",
    "            #print(\"STARTING WALL:\",self.startingWall)\n",
    "            return\n",
    "        \n",
    "    def getValidDirs(self,bumpers):\n",
    "        viableActions = [k for k,v in bumpers.items() if bool(v) == False]\n",
    "        return viableActions\n",
    "    \n",
    "    def momentumInverse(self):\n",
    "        if self.momentumNS == \"north\":\n",
    "            return \"south\"\n",
    "        elif self.momentumNS == \"south\":\n",
    "            return \"north\"\n",
    "        \n",
    "    def inverseStartingWall(self):\n",
    "        if self.startingWall == \"east\":\n",
    "            return \"west\"\n",
    "        elif self.startingWall == \"west\":\n",
    "            return \"east\"\n",
    "\n",
    "env = None\n",
    "env = Environment(100,100,100000)\n",
    "#env.print_room()\n",
    "env.clean_room(agent=modelBasedReflexAgent())\n",
    "            "
   ],
   "outputs": [
    {
     "data": {
      "text/plain": [
       "(10024, 4970)"
      ]
     },
     "execution_count": 105,
     "metadata": {},
     "output_type": "execute_result"
    }
   ],
   "execution_count": 105
  },
  {
   "cell_type": "markdown",
   "metadata": {
    "id": "mko_lpH0JOfv"
   },
   "source": [
    "## Task 4: Simulation study [30 Points]\n",
    "\n",
    "Compare the performance (the performance measure is defined in the PEAS description above) of the agents using  environments of different size. E.g., $5 \\times 5$, $10 \\times 10$ and\n",
    "$100 \\times 100$. Use 100 random runs for each. Present the results using tables and graphs. Discuss the differences between the agents.\n",
    "([Help with charts and tables in Python](https://github.com/mhahsler/CS7320-AI/blob/master/HOWTOs/charts_and_tables.ipynb))"
   ]
  },
  {
   "cell_type": "code",
   "metadata": {
    "id": "MJku7tfQJOfv",
    "ExecuteTime": {
     "end_time": "2024-09-17T00:23:26.492837Z",
     "start_time": "2024-09-17T00:23:12.584888Z"
    }
   },
   "source": [
    "\n",
    "\n",
    "\n",
    "reflex_steps = 0\n",
    "reflex_cleans = 0\n",
    "simple_steps = 0\n",
    "simple_cleans = 0\n",
    "model_steps = 0\n",
    "model_cleans = 0\n",
    "\n",
    "room_sizes = [5,10,100]\n",
    "\n",
    "varDict = {\"random\":[],\"simple\":[],\"model\":[]}\n",
    "for s in room_sizes:\n",
    "    print(\"ROOM SIZE: \",s,\"x\",s)\n",
    "    #print(\"ROOM SIZE: \",s,\"x\",s,\"\\n\")\n",
    "    \n",
    "    runs = 0\n",
    "    for i in range(0,100):\n",
    "        env = Environment(s,s,10000)\n",
    "        #env.print_room()\n",
    "        steps,cleans = env.clean_room(agent=simpleRAgent())\n",
    "        if steps == -1:\n",
    "            \n",
    "            print(\"Random agent ended after 10,000 steps\")\n",
    "            break\n",
    "        else:\n",
    "            reflex_steps += steps\n",
    "            reflex_cleans += cleans\n",
    "            runs +=1\n",
    "        \n",
    "        \n",
    "    if runs == 0:\n",
    "        reflex_steps_avg = -1\n",
    "        reflex_cleans_avg = -1\n",
    "    else:\n",
    "        reflex_steps_avg = reflex_steps/runs\n",
    "        reflex_cleans_avg = reflex_cleans/runs\n",
    "    \n",
    "    varDict[\"random\"].append((reflex_steps_avg,reflex_cleans_avg,runs))\n",
    "    print(\"reflex_steps_avg: \",reflex_steps_avg)\n",
    "    print(\"reflex_cleans_avg: \",reflex_cleans_avg)\n",
    "    print(\"Completed Runs: \",runs)\n",
    "\n",
    "    print(\"---------------------------------------\")\n",
    "    runs = 0\n",
    "    for i in range(0,100):\n",
    "        env = Environment(s,s,10000)\n",
    "        env.print_room()\n",
    "        \n",
    "        steps,cleans = env.clean_room(agent=SimpleReflexAgent())\n",
    "        if steps == -1:\n",
    "            \n",
    "            print(\"Simple Reflex agent ended after 10,000 steps\")\n",
    "            break\n",
    "        else:\n",
    "            simple_steps += steps\n",
    "            simple_cleans += cleans\n",
    "            runs +=1\n",
    "\n",
    "    if runs == 0:\n",
    "        simple_steps_avg = -1\n",
    "        simple_cleans_avg = -1\n",
    "    else:\n",
    "        simple_steps_avg = simple_steps/runs\n",
    "        simple_cleans_avg = simple_cleans/runs\n",
    "    \n",
    "    \n",
    "    varDict[\"simple\"].append((simple_steps_avg,simple_cleans_avg,runs))\n",
    "    print(\"simple_steps_avg: \",simple_steps_avg)\n",
    "    print(\"simple_cleans_avg: \",simple_cleans_avg)\n",
    "    print(\"Completed Runs: \",runs)\n",
    "\n",
    "    print(\"---------------------------------------\")\n",
    "    runs = 0\n",
    "    for i in range(0,100):\n",
    "        env = Environment(s,s,100000)\n",
    "        env.print_room()\n",
    "        steps,cleans = env.clean_room(agent=modelBasedReflexAgent())\n",
    "        if steps == -1:\n",
    "            print(\"Model agent ended after 10,000 steps\")\n",
    "            break\n",
    "            \n",
    "        else:\n",
    "        \n",
    "            model_steps += steps\n",
    "            model_cleans += cleans\n",
    "            runs +=1\n",
    "\n",
    "    if runs == 0:\n",
    "        model_steps_avg = -1\n",
    "        model_cleans_avg = -1\n",
    "    else:\n",
    "        model_steps_avg = model_steps/100\n",
    "        model_cleans_avg = model_cleans/100\n",
    "    \n",
    "    \n",
    "    varDict[\"model\"].append((model_steps_avg,model_cleans_avg,runs))\n",
    "    print(\"model_steps_avg: \",model_steps_avg)\n",
    "    print(\"model_cleans_avg: \",model_cleans_avg)\n",
    "    print(\"Completed Runs: \",runs)\n",
    "    \n",
    "    print(\"\\n\\n\")\n",
    "\n",
    "\n",
    "\n",
    "print(varDict)\n"
   ],
   "outputs": [
    {
     "name": "stdout",
     "output_type": "stream",
     "text": [
      "ROOM SIZE:  5 x 5\n",
      "reflex_steps_avg:  493.38\n",
      "reflex_cleans_avg:  126.39\n",
      "Completed Runs:  100\n",
      "---------------------------------------\n",
      "simple_steps_avg:  148.19\n",
      "simple_cleans_avg:  12.15\n",
      "Completed Runs:  100\n",
      "---------------------------------------\n",
      "model_steps_avg:  26.5\n",
      "model_cleans_avg:  12.38\n",
      "Completed Runs:  100\n",
      "\n",
      "\n",
      "\n",
      "ROOM SIZE:  10 x 10\n",
      "reflex_steps_avg:  3552.22\n",
      "reflex_cleans_avg:  891.13\n",
      "Completed Runs:  100\n",
      "---------------------------------------\n",
      "simple_steps_avg:  1173.03\n",
      "simple_cleans_avg:  61.82\n",
      "Completed Runs:  100\n",
      "---------------------------------------\n",
      "model_steps_avg:  133.02\n",
      "model_cleans_avg:  62.98\n",
      "Completed Runs:  100\n",
      "\n",
      "\n",
      "\n",
      "ROOM SIZE:  100 x 100\n",
      "Random agent ended after 10,000 steps\n",
      "reflex_steps_avg:  -1\n",
      "reflex_cleans_avg:  -1\n",
      "Completed Runs:  0\n",
      "---------------------------------------\n",
      "Simple Reflex agent ended after 10,000 steps\n",
      "simple_steps_avg:  -1\n",
      "simple_cleans_avg:  -1\n",
      "Completed Runs:  0\n",
      "---------------------------------------\n",
      "model_steps_avg:  10222.54\n",
      "model_cleans_avg:  5055.45\n",
      "Completed Runs:  100\n",
      "\n",
      "\n",
      "\n",
      "{'random': [(493.38, 126.39, 100), (3552.22, 891.13, 100), (-1, -1, 0)], 'simple': [(148.19, 12.15, 100), (1173.03, 61.82, 100), (-1, -1, 0)], 'model': [(26.5, 12.38, 100), (133.02, 62.98, 100), (10222.54, 5055.45, 100)]}\n"
     ]
    }
   ],
   "execution_count": 106
  },
  {
   "cell_type": "markdown",
   "metadata": {
    "id": "9Ha9x1gjJOfw"
   },
   "source": [
    "Fill out the following table with the average performance measure for 100 random runs (you may also create this table with code):\n",
    "\n",
    "| Size     | Randomized Agent | Simple Reflex Agent | Model-based Reflex Agent |\n",
    "|----------|------------------|---------------------|--------------------------|\n",
    "| 5x5     | | | |\n",
    "| 10x10   | | | |\n",
    "| 100x100 | | | |\n",
    "\n",
    "Add charts to compare the performance of the different agents."
   ]
  },
  {
   "cell_type": "code",
   "metadata": {
    "id": "Z7N0BSQyJOfw",
    "ExecuteTime": {
     "end_time": "2024-09-17T00:23:26.731756Z",
     "start_time": "2024-09-17T00:23:26.499153Z"
    }
   },
   "source": [
    "# Your graphs and discussion of the results goes here\n",
    "import numpy as np\n",
    "import pandas as pd\n",
    "import matplotlib.pyplot as plt\n",
    "cols = [\"size\",\"Randomized Agent\",\"Simple Reflex Agent\",\"Model Reflex Agent\"]\n",
    "\n",
    "runtime = [[\"5x5\",varDict[\"random\"][0][0],varDict[\"simple\"][0][0],varDict[\"model\"][0][0]],[\"10x10\",varDict[\"random\"][1][0],varDict[\"simple\"][1][0],varDict[\"model\"][1][0]],[\"100x100\",varDict[\"random\"][2][0],varDict[\"simple\"][2][0],varDict[\"model\"][2][0]]]\n",
    "\n",
    "\n",
    "print(\"Average number of steps, -1 representing failed to finish in 10,000 or 100,000 for the 100x100\")\n",
    "\n",
    "df = pd.DataFrame(runtime,columns = cols)\n",
    "print(df)\n",
    "\n",
    "vals = [varDict[\"random\"][0][0],varDict[\"simple\"][0][0],varDict[\"model\"][0][0]]\n",
    "plt.bar(varDict.keys(), vals)\n",
    "plt.ylabel(\"Mean performance\")\n",
    "plt.show()\n",
    "print(\"\\n\")\n",
    "print(\"Average number of cleans, -1 representing failed to finish in 10,000 or 100,000 for the 100x100\")\n",
    "runtime = [[\"5x5\",varDict[\"random\"][0][1],varDict[\"simple\"][0][1],varDict[\"model\"][0][1]],[\"10x10\",varDict[\"random\"][1][1],varDict[\"simple\"][1][1],varDict[\"model\"][1][1]],[\"100x100\",varDict[\"random\"][2][1],varDict[\"simple\"][2][1],varDict[\"model\"][2][1]]]\n",
    "df = pd.DataFrame(runtime,columns = cols)\n",
    "print(df)\n",
    "\n",
    "vals = [varDict[\"random\"][0][1],varDict[\"simple\"][0][1],varDict[\"model\"][0][1]]\n",
    "plt.bar(varDict.keys(), vals)\n",
    "plt.ylabel(\"Mean performance\")\n",
    "plt.show()\n",
    "\n",
    "print(\"\\n\")\n",
    "print(\"Average number of actions, -1 representing failed to finish in 10,000 or 100,000 for the 100x100\")\n",
    "runtime = [[\"5x5\",(varDict[\"random\"][0][0]+varDict[\"random\"][0][1])/2,(varDict[\"simple\"][0][0]+varDict[\"simple\"][0][1])/2,(varDict[\"model\"][0][0]+varDict[\"model\"][0][1])/2],[\"10x10\",(varDict[\"random\"][1][0]+varDict[\"random\"][1][1])/2,(varDict[\"simple\"][1][0]+varDict[\"simple\"][1][1])/2,(varDict[\"model\"][1][0]+varDict[\"model\"][1][1])/2],[\"100x100\",(varDict[\"random\"][2][0]+varDict[\"random\"][2][1])/2,(varDict[\"simple\"][2][0]+varDict[\"simple\"][2][1])/2,(varDict[\"model\"][2][0]+varDict[\"model\"][2][1])]]\n",
    "df = pd.DataFrame(runtime,columns = cols)\n",
    "print(df)\n",
    "\n",
    "\n",
    "vals = [(varDict[\"random\"][0][0]+varDict[\"random\"][0][1])/2,(varDict[\"simple\"][0][0]+varDict[\"simple\"][0][1])/2,(varDict[\"model\"][0][0]+varDict[\"model\"][0][1])/2]\n",
    "plt.bar(varDict.keys(), vals)\n",
    "plt.ylabel(\"Mean performance\")\n",
    "plt.show()"
   ],
   "outputs": [
    {
     "name": "stdout",
     "output_type": "stream",
     "text": [
      "Average number of steps, -1 representing failed to finish in 10,000 or 100,000 for the 100x100\n",
      "      size  Randomized Agent  Simple Reflex Agent  Model Reflex Agent\n",
      "0      5x5            493.38               148.19               26.50\n",
      "1    10x10           3552.22              1173.03              133.02\n",
      "2  100x100             -1.00                -1.00            10222.54\n"
     ]
    },
    {
     "data": {
      "text/plain": [
       "<Figure size 640x480 with 1 Axes>"
      ],
      "image/png": "[encoded data removed]"
     },
     "metadata": {},
     "output_type": "display_data"
    },
    {
     "name": "stdout",
     "output_type": "stream",
     "text": [
      "\n",
      "\n",
      "Average number of cleans, -1 representing failed to finish in 10,000 or 100,000 for the 100x100\n",
      "      size  Randomized Agent  Simple Reflex Agent  Model Reflex Agent\n",
      "0      5x5            126.39                12.15               12.38\n",
      "1    10x10            891.13                61.82               62.98\n",
      "2  100x100             -1.00                -1.00             5055.45\n"
     ]
    },
    {
     "data": {
      "text/plain": [
       "<Figure size 640x480 with 1 Axes>"
      ],
      "image/png": "[encoded data removed]"
     },
     "metadata": {},
     "output_type": "display_data"
    },
    {
     "name": "stdout",
     "output_type": "stream",
     "text": [
      "\n",
      "\n",
      "Average number of actions, -1 representing failed to finish in 10,000 or 100,000 for the 100x100\n",
      "      size  Randomized Agent  Simple Reflex Agent  Model Reflex Agent\n",
      "0      5x5           309.885               80.170               19.44\n",
      "1    10x10          2221.675              617.425               98.00\n",
      "2  100x100            -1.000               -1.000            15277.99\n"
     ]
    },
    {
     "data": {
      "text/plain": [
       "<Figure size 640x480 with 1 Axes>"
      ],
      "image/png": "[encoded data removed]"
     },
     "metadata": {},
     "output_type": "display_data"
    }
   ],
   "execution_count": 107
  },
  {
   "metadata": {},
   "cell_type": "markdown",
   "source": [
    "##General Notes about robots\n",
    "The Graphs are chosen for the 5x5 grid, because the most the most consistent results are found\n",
    "The model based agent preforms the best given the square room, with the simple agent following, and the random agent trailing much behind.\n",
    "\n",
    "The areas on the table listed as -1 are areas where the robot did not finish given 10,000 battery and 100,000 battery on the 100x100. The numbers 10,000 and 100,000 were chosen because it allowed the largest number of datapoints"
   ]
  },
  {
   "cell_type": "markdown",
   "metadata": {
    "id": "lowaIrCdJOfw"
   },
   "source": [
    "## Task 5: Robustness of the agent implementations [10 Points]\n",
    "\n",
    "Describe how **your agent implementations** will perform\n",
    "\n",
    "* if it is put into a rectangular room with unknown size,\n",
    "* if the cleaning area can have an irregular shape (e.g., a hallway connecting two rooms), or\n",
    "* if the room contains obstacles (i.e., squares that it cannot pass through and trigger the bumper sensors).\n",
    "* if the dirt sensor is not perfect and gives 10% of the time a wrong reading (clean when it is dirty or dirty when it is clean).\n",
    "* if the bumper sensor is not perfect and 10% of the time does not report a wall when there is one."
   ]
  },
  {
   "cell_type": "code",
   "metadata": {
    "id": "q3MrWfUpJOfw",
    "ExecuteTime": {
     "end_time": "2024-09-17T00:23:26.757737Z",
     "start_time": "2024-09-17T00:23:26.754052Z"
    }
   },
   "source": [
    "# Answers goes here\n",
    "#If put into a rectangular room with an unknown size, any of the agents will be able to complete it, however the model based would do it the best\n",
    "\n",
    "#If the cleaning area had an irregular shape, the model based would most likely not be able to complete it; as it assumes it is a square. However, the simple reflex agent would most likely be able to complete it because it randomly chooses a direction. While it would take a really long time it should be able to complete it\n",
    "\n",
    "#If the room contained obstacles, it would have similar results to an irregularly shaped room. The model based would not fully clean it, as it would miss areas where the obstacles are. The simple reflex agent, however, would most likely complete it, given enough time\n",
    "\n",
    "#If the dirt sensor is not perfect, the model sensor would possibly be able to clean the floor, depending on when the dirt sensor fails, once it reaches the end, it would be unable to go back if it did not complete the task. The simple reflex, on the other hand, does not have a set path, but randomly drives until the environment tells the agent it is clean\n",
    "\n",
    "#if the bump sensor is not perfect all of the agents could fail and fall off the edge. If the wall sensor triggers too early the model based will fail, but the simple reflex will be able to complete it given enough time.\n",
    "\n"
   ],
   "outputs": [],
   "execution_count": 108
  },
  {
   "cell_type": "markdown",
   "metadata": {
    "id": "ppm2ZOMzJOfw"
   },
   "source": [
    "## Advanced task: Imperfect Dirt Sensor\n",
    "\n",
    "* __Graduate students__ need to complete this task [10 points]\n",
    "* __Undergraduate students__ can attempt this as a bonus task [max +5 bonus points].\n",
    "\n",
    "1. Change your simulation environment to run experiments for the following problem: The dirt sensor has a 10% chance of giving the wrong reading. Perform experiments to observe how this changes the performance of the three implementations. Your model-based reflex agent is likely not able to clean the whole room, so you need to measure performance differently as a tradeoff between energy cost and number of uncleaned squares.\n",
    "\n",
    "2. Design an implement a solution for your model-based agent that will clean better. Show the improvement with experiments."
   ]
  },
  {
   "cell_type": "code",
   "metadata": {
    "id": "VMoPITGBJOfw",
    "ExecuteTime": {
     "end_time": "2024-09-17T00:23:26.779342Z",
     "start_time": "2024-09-17T00:23:26.776953Z"
    }
   },
   "source": [
    "# Your code and discussion goes here"
   ],
   "outputs": [],
   "execution_count": 109
  },
  {
   "cell_type": "markdown",
   "metadata": {
    "id": "fw6B3EgIJOfw"
   },
   "source": [
    "## More advanced implementation tasks\n",
    "\n",
    "* __Obstacles:__ Change your simulation environment to run experiments for the following problem: Add random obstacle squares that also trigger the bumper sensor. The agent does not know where the obstacles are. Perform experiments to observe how this changes the performance of the three implementations. Describe what would need to be done to perform better with obstacles. Add code if you can.\n",
    "\n",
    "* __Agent for and environment with obstacles:__ Implement an agent for an environment where the agent does not know how large the environment is (we assume it is rectangular), where it starts or where the obstacles are. An option would be to always move to the closest unchecked/uncleaned square (note that this is actually depth-first search).\n",
    "\n",
    "* __Utility-based agent:__ Change the environment for a $5 \\times 5$ room, so each square has a fixed probability of getting dirty again. For the implementation, we give the environment a 2-dimensional array of probabilities. The utility of a state is defined as the number of currently clean squares in the room. Implement a utility-based agent that maximizes the expected utility over one full charge which lasts for 100000 time steps. To do this, the agent needs to learn the probabilities with which different squares get dirty again. This is very tricky!"
   ]
  },
  {
   "cell_type": "code",
   "metadata": {
    "id": "_0H4GszZJOfw",
    "ExecuteTime": {
     "end_time": "2024-09-17T00:23:28.022840Z",
     "start_time": "2024-09-17T00:23:26.792462Z"
    }
   },
   "source": [
    "# Your ideas/code\n",
    "import os\n",
    "\n",
    "os.system('jupyter nbconvert --to html robot_vacuum.ipynb')"
   ],
   "outputs": [
    {
     "name": "stderr",
     "output_type": "stream",
     "text": [
      "[NbConvertApp] Converting notebook robot_vacuum.ipynb to html\n",
      "[NbConvertApp] WARNING | Alternative text is missing on 3 image(s).\n",
      "[NbConvertApp] Writing 423902 bytes to robot_vacuum.html\n"
     ]
    },
    {
     "data": {
      "text/plain": [
       "0"
      ]
     },
     "execution_count": 110,
     "metadata": {},
     "output_type": "execute_result"
    }
   ],
   "execution_count": 110
  }
 ],
 "metadata": {
  "kernelspec": {
   "display_name": "Python 3 (ipykernel)",
   "language": "python",
   "name": "python3"
  },
  "language_info": {
   "codemirror_mode": {
    "name": "ipython",
    "version": 3
   },
   "file_extension": ".py",
   "mimetype": "text/x-python",
   "name": "python",
   "nbconvert_exporter": "python",
   "pygments_lexer": "ipython3",
   "version": "3.10.12"
  },
  "toc-autonumbering": false,
  "colab": {
   "provenance": []
  }
 },
 "nbformat": 4,
 "nbformat_minor": 0
}
